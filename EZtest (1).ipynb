{
  "nbformat": 4,
  "nbformat_minor": 0,
  "metadata": {
    "colab": {
      "provenance": []
    },
    "kernelspec": {
      "name": "python3",
      "display_name": "Python 3"
    },
    "language_info": {
      "name": "python"
    }
  },
  "cells": [
    {
      "cell_type": "code",
      "source": [
        "!pip install fastapi uvicorn nest-asyncio pyngrok itsdangerous python-multipart email-validator passlib\n"
      ],
      "metadata": {
        "colab": {
          "base_uri": "https://localhost:8080/"
        },
        "id": "U0j2DUk0uBky",
        "outputId": "7d1d9915-5526-4d62-d94c-dc9065ec216f"
      },
      "execution_count": 1,
      "outputs": [
        {
          "output_type": "stream",
          "name": "stdout",
          "text": [
            "Requirement already satisfied: fastapi in /usr/local/lib/python3.11/dist-packages (0.115.14)\n",
            "Requirement already satisfied: uvicorn in /usr/local/lib/python3.11/dist-packages (0.35.0)\n",
            "Requirement already satisfied: nest-asyncio in /usr/local/lib/python3.11/dist-packages (1.6.0)\n",
            "Collecting pyngrok\n",
            "  Downloading pyngrok-7.2.11-py3-none-any.whl.metadata (9.4 kB)\n",
            "Requirement already satisfied: itsdangerous in /usr/local/lib/python3.11/dist-packages (2.2.0)\n",
            "Requirement already satisfied: python-multipart in /usr/local/lib/python3.11/dist-packages (0.0.20)\n",
            "Collecting email-validator\n",
            "  Downloading email_validator-2.2.0-py3-none-any.whl.metadata (25 kB)\n",
            "Collecting passlib\n",
            "  Downloading passlib-1.7.4-py2.py3-none-any.whl.metadata (1.7 kB)\n",
            "Requirement already satisfied: starlette<0.47.0,>=0.40.0 in /usr/local/lib/python3.11/dist-packages (from fastapi) (0.46.2)\n",
            "Requirement already satisfied: pydantic!=1.8,!=1.8.1,!=2.0.0,!=2.0.1,!=2.1.0,<3.0.0,>=1.7.4 in /usr/local/lib/python3.11/dist-packages (from fastapi) (2.11.7)\n",
            "Requirement already satisfied: typing-extensions>=4.8.0 in /usr/local/lib/python3.11/dist-packages (from fastapi) (4.14.0)\n",
            "Requirement already satisfied: click>=7.0 in /usr/local/lib/python3.11/dist-packages (from uvicorn) (8.2.1)\n",
            "Requirement already satisfied: h11>=0.8 in /usr/local/lib/python3.11/dist-packages (from uvicorn) (0.16.0)\n",
            "Requirement already satisfied: PyYAML>=5.1 in /usr/local/lib/python3.11/dist-packages (from pyngrok) (6.0.2)\n",
            "Collecting dnspython>=2.0.0 (from email-validator)\n",
            "  Downloading dnspython-2.7.0-py3-none-any.whl.metadata (5.8 kB)\n",
            "Requirement already satisfied: idna>=2.0.0 in /usr/local/lib/python3.11/dist-packages (from email-validator) (3.10)\n",
            "Requirement already satisfied: annotated-types>=0.6.0 in /usr/local/lib/python3.11/dist-packages (from pydantic!=1.8,!=1.8.1,!=2.0.0,!=2.0.1,!=2.1.0,<3.0.0,>=1.7.4->fastapi) (0.7.0)\n",
            "Requirement already satisfied: pydantic-core==2.33.2 in /usr/local/lib/python3.11/dist-packages (from pydantic!=1.8,!=1.8.1,!=2.0.0,!=2.0.1,!=2.1.0,<3.0.0,>=1.7.4->fastapi) (2.33.2)\n",
            "Requirement already satisfied: typing-inspection>=0.4.0 in /usr/local/lib/python3.11/dist-packages (from pydantic!=1.8,!=1.8.1,!=2.0.0,!=2.0.1,!=2.1.0,<3.0.0,>=1.7.4->fastapi) (0.4.1)\n",
            "Requirement already satisfied: anyio<5,>=3.6.2 in /usr/local/lib/python3.11/dist-packages (from starlette<0.47.0,>=0.40.0->fastapi) (4.9.0)\n",
            "Requirement already satisfied: sniffio>=1.1 in /usr/local/lib/python3.11/dist-packages (from anyio<5,>=3.6.2->starlette<0.47.0,>=0.40.0->fastapi) (1.3.1)\n",
            "Downloading pyngrok-7.2.11-py3-none-any.whl (25 kB)\n",
            "Downloading email_validator-2.2.0-py3-none-any.whl (33 kB)\n",
            "Downloading passlib-1.7.4-py2.py3-none-any.whl (525 kB)\n",
            "\u001b[2K   \u001b[90m━━━━━━━━━━━━━━━━━━━━━━━━━━━━━━━━━━━━━━━━\u001b[0m \u001b[32m525.6/525.6 kB\u001b[0m \u001b[31m10.0 MB/s\u001b[0m eta \u001b[36m0:00:00\u001b[0m\n",
            "\u001b[?25hDownloading dnspython-2.7.0-py3-none-any.whl (313 kB)\n",
            "\u001b[2K   \u001b[90m━━━━━━━━━━━━━━━━━━━━━━━━━━━━━━━━━━━━━━━━\u001b[0m \u001b[32m313.6/313.6 kB\u001b[0m \u001b[31m29.0 MB/s\u001b[0m eta \u001b[36m0:00:00\u001b[0m\n",
            "\u001b[?25hInstalling collected packages: passlib, pyngrok, dnspython, email-validator\n",
            "Successfully installed dnspython-2.7.0 email-validator-2.2.0 passlib-1.7.4 pyngrok-7.2.11\n"
          ]
        }
      ]
    },
    {
      "cell_type": "code",
      "source": [
        "from fastapi import FastAPI, UploadFile, File, HTTPException\n",
        "from fastapi.responses import FileResponse\n",
        "from pyngrok import ngrok\n",
        "import os\n",
        "from itsdangerous import URLSafeTimedSerializer\n",
        "import nest_asyncio\n",
        "import uvicorn\n"
      ],
      "metadata": {
        "id": "0dOOxCFRuGWQ"
      },
      "execution_count": 2,
      "outputs": []
    },
    {
      "cell_type": "code",
      "source": [
        "nest_asyncio.apply()\n"
      ],
      "metadata": {
        "id": "fmFLP1XguJHZ"
      },
      "execution_count": 3,
      "outputs": []
    },
    {
      "cell_type": "code",
      "source": [
        "UPLOAD_DIR = \"/content/uploads\"\n",
        "os.makedirs(UPLOAD_DIR, exist_ok=True)\n",
        "\n",
        "SECRET_KEY = \"mihika_secure_key\"\n",
        "serializer = URLSafeTimedSerializer(SECRET_KEY)\n"
      ],
      "metadata": {
        "id": "IswVRS_vuLQU"
      },
      "execution_count": 4,
      "outputs": []
    },
    {
      "cell_type": "code",
      "source": [
        "app = FastAPI()\n",
        "\n",
        "@app.get(\"/\")\n",
        "def read_root():\n",
        "    return {\"message\": \"Hello, Mihika!\"}\n",
        "\n",
        "@app.post(\"/ops/upload-file\")\n",
        "async def upload_file(file: UploadFile = File(...)):\n",
        "    allowed_types = [\n",
        "        'application/vnd.openxmlformats-officedocument.presentationml.presentation',\n",
        "        'application/vnd.openxmlformats-officedocument.wordprocessingml.document',\n",
        "        'application/vnd.openxmlformats-officedocument.spreadsheetml.sheet'\n",
        "    ]\n",
        "    if file.content_type not in allowed_types:\n",
        "        raise HTTPException(status_code=400, detail=\"File type not allowed!\")\n",
        "\n",
        "    file_location = os.path.join(UPLOAD_DIR, file.filename)\n",
        "    with open(file_location, \"wb\") as buffer:\n",
        "        buffer.write(await file.read())\n",
        "\n",
        "    return {\"message\": \"File uploaded successfully!\"}\n",
        "\n",
        "@app.get(\"/client/download-link/{filename}\")\n",
        "def generate_download_link(filename: str):\n",
        "    token = serializer.dumps(filename)\n",
        "    download_url = f\"{public_url}/client/download-file/{token}\"\n",
        "    return {\"download-link\": download_url, \"message\": \"success\"}\n",
        "\n",
        "@app.get(\"/client/download-file/{token}\")\n",
        "def download_file(token: str):\n",
        "    try:\n",
        "        filename = serializer.loads(token, max_age=600)\n",
        "    except:\n",
        "        raise HTTPException(status_code=400, detail=\"Invalid or expired link!\")\n",
        "\n",
        "    file_path = os.path.join(UPLOAD_DIR, filename)\n",
        "    if not os.path.exists(file_path):\n",
        "        raise HTTPException(status_code=404, detail=\"File not found!\")\n",
        "\n",
        "    return FileResponse(file_path, media_type='application/octet-stream', filename=filename)\n"
      ],
      "metadata": {
        "id": "F1drx0aEuNO7"
      },
      "execution_count": 5,
      "outputs": []
    },
    {
      "cell_type": "code",
      "source": [
        "pip install pyngrok"
      ],
      "metadata": {
        "colab": {
          "base_uri": "https://localhost:8080/"
        },
        "id": "marf9QAs1AGP",
        "outputId": "cc67ce3b-f1c9-43e7-ca0b-ffc008446e3a"
      },
      "execution_count": 6,
      "outputs": [
        {
          "output_type": "stream",
          "name": "stdout",
          "text": [
            "Requirement already satisfied: pyngrok in /usr/local/lib/python3.11/dist-packages (7.2.11)\n",
            "Requirement already satisfied: PyYAML>=5.1 in /usr/local/lib/python3.11/dist-packages (from pyngrok) (6.0.2)\n"
          ]
        }
      ]
    },
    {
      "cell_type": "code",
      "source": [
        "from pyngrok import ngrok\n",
        "\n",
        "# Set your authtoken here\n",
        "ngrok.set_auth_token(\"2zM6A9y5joNh4xvMlHHGrdvAWS3_75GE4xC6rKYYt5KHRcArG\")\n"
      ],
      "metadata": {
        "id": "k97moAK418oX",
        "colab": {
          "base_uri": "https://localhost:8080/"
        },
        "outputId": "5e43d1fc-c5d0-4b45-b5eb-1c93b31fed37"
      },
      "execution_count": 7,
      "outputs": [
        {
          "output_type": "stream",
          "name": "stdout",
          "text": []
        }
      ]
    },
    {
      "cell_type": "code",
      "source": [
        "public_url = ngrok.connect(8000)\n",
        "print(\"Public URL:\", public_url)\n"
      ],
      "metadata": {
        "colab": {
          "base_uri": "https://localhost:8080/"
        },
        "id": "JU6EMjXK2IXZ",
        "outputId": "29be9638-6c07-425c-ef8c-8ec861607877"
      },
      "execution_count": 8,
      "outputs": [
        {
          "output_type": "stream",
          "name": "stdout",
          "text": [
            "Public URL: NgrokTunnel: \"https://c7ac-34-106-68-173.ngrok-free.app\" -> \"http://localhost:8000\"\n"
          ]
        }
      ]
    },
    {
      "cell_type": "code",
      "source": [
        "uvicorn.run(app, host=\"0.0.0.0\", port=8000)\n"
      ],
      "metadata": {
        "colab": {
          "base_uri": "https://localhost:8080/"
        },
        "id": "MPXXjIqA22bS",
        "outputId": "18a3934c-02d0-49a8-9053-ef5206f27e73"
      },
      "execution_count": 9,
      "outputs": [
        {
          "output_type": "stream",
          "name": "stderr",
          "text": [
            "INFO:     Started server process [1334]\n",
            "INFO:     Waiting for application startup.\n",
            "INFO:     Application startup complete.\n",
            "INFO:     Uvicorn running on http://0.0.0.0:8000 (Press CTRL+C to quit)\n",
            "INFO:     Shutting down\n",
            "INFO:     Waiting for application shutdown.\n",
            "INFO:     Application shutdown complete.\n",
            "INFO:     Finished server process [1334]\n"
          ]
        }
      ]
    }
  ]
}